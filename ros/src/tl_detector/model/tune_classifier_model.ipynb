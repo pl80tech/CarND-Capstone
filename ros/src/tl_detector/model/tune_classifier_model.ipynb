{
 "cells": [
  {
   "cell_type": "code",
   "execution_count": 1,
   "metadata": {},
   "outputs": [
    {
     "name": "stderr",
     "output_type": "stream",
     "text": [
      "Using TensorFlow backend.\n",
      "/home/gb/.local/lib/python2.7/site-packages/requests/__init__.py:83: RequestsDependencyWarning: Old version of cryptography ([1, 2, 3]) may cause slowdown.\n",
      "  warnings.warn(warning, RequestsDependencyWarning)\n"
     ]
    }
   ],
   "source": [
    "from train_classifier_model import *"
   ]
  },
  {
   "cell_type": "code",
   "execution_count": 2,
   "metadata": {},
   "outputs": [],
   "source": [
    "def train(modelArch, dataset, useDropout, batchsize, n_epoch):\n",
    "    # Change to str\n",
    "    modelArch = str(modelArch)\n",
    "    dataset = str(dataset)\n",
    "    \n",
    "    # Call the pipeline\n",
    "    print(\"Call pipeline with \" \\\n",
    "        + \"model architecture#\" + str(modelArch) \\\n",
    "        + \", dataset#\" + str(dataset) \\\n",
    "        + \", useDropout = \" + str(useDropout) \\\n",
    "        + \", batchsize = \" + str(batchsize) \\\n",
    "        + \", n_epoch = \" + str(n_epoch))\n",
    "\n",
    "    training_pipeline(modelArch, dataset, useDropout, batchsize, n_epoch)"
   ]
  },
  {
   "cell_type": "code",
   "execution_count": 3,
   "metadata": {},
   "outputs": [
    {
     "name": "stdout",
     "output_type": "stream",
     "text": [
      "Call pipeline with model architecture#1, dataset#3, useDropout = True, batchsize = 32, n_epoch = 10\n",
      "('length of image list =', 1453)\n",
      "Epoch 1/10\n",
      "36/36 [==============================] - 49s - loss: 0.2924 - acc: 0.4913 - val_loss: 0.1257 - val_acc: 0.6250\n",
      "Epoch 2/10\n",
      "36/36 [==============================] - 47s - loss: 0.1106 - acc: 0.6816 - val_loss: 0.0818 - val_acc: 0.8108\n",
      "Epoch 3/10\n",
      "36/36 [==============================] - 47s - loss: 0.0606 - acc: 0.8947 - val_loss: 0.0403 - val_acc: 0.9344\n",
      "Epoch 4/10\n",
      "36/36 [==============================] - 47s - loss: 0.0289 - acc: 0.9679 - val_loss: 0.0223 - val_acc: 0.9923\n",
      "Epoch 5/10\n",
      "36/36 [==============================] - 47s - loss: 0.0197 - acc: 0.9800 - val_loss: 0.0172 - val_acc: 0.9884\n",
      "Epoch 6/10\n",
      "36/36 [==============================] - 47s - loss: 0.0143 - acc: 0.9800 - val_loss: 0.0133 - val_acc: 0.9923\n",
      "Epoch 7/10\n",
      "36/36 [==============================] - 47s - loss: 0.0117 - acc: 0.9852 - val_loss: 0.0124 - val_acc: 0.9923\n",
      "Epoch 8/10\n",
      "36/36 [==============================] - 47s - loss: 0.0103 - acc: 0.9844 - val_loss: 0.0096 - val_acc: 0.9923\n",
      "Epoch 9/10\n",
      "36/36 [==============================] - 47s - loss: 0.0093 - acc: 0.9870 - val_loss: 0.0104 - val_acc: 0.9884\n",
      "Epoch 10/10\n",
      "36/36 [==============================] - 47s - loss: 0.0083 - acc: 0.9861 - val_loss: 0.0106 - val_acc: 0.9923\n",
      "-----------------------------\n",
      "Save model to file: ./trained_data/model_2019-06-09_851_modelArch1_dataset3_noDropout_batch32_epoch10.h5\n",
      "Save history to pickle file: ./trained_data/history_2019-06-09_851_modelArch1_dataset3_noDropout_batch32_epoch10.bin\n"
     ]
    }
   ],
   "source": [
    "train(1, 3, True, 32, 10)"
   ]
  }
 ],
 "metadata": {
  "kernelspec": {
   "display_name": "Python 2",
   "language": "python",
   "name": "python2"
  },
  "language_info": {
   "codemirror_mode": {
    "name": "ipython",
    "version": 2
   },
   "file_extension": ".py",
   "mimetype": "text/x-python",
   "name": "python",
   "nbconvert_exporter": "python",
   "pygments_lexer": "ipython2",
   "version": "2.7.12"
  }
 },
 "nbformat": 4,
 "nbformat_minor": 2
}
