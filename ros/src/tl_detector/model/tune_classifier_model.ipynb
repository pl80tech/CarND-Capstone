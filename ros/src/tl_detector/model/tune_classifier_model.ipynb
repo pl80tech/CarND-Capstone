{
 "cells": [
  {
   "cell_type": "code",
   "execution_count": 1,
   "metadata": {},
   "outputs": [
    {
     "name": "stderr",
     "output_type": "stream",
     "text": [
      "Using TensorFlow backend.\n",
      "/home/gb/.local/lib/python2.7/site-packages/requests/__init__.py:83: RequestsDependencyWarning: Old version of cryptography ([1, 2, 3]) may cause slowdown.\n",
      "  warnings.warn(warning, RequestsDependencyWarning)\n"
     ]
    }
   ],
   "source": [
    "from train_classifier_model import *"
   ]
  },
  {
   "cell_type": "code",
   "execution_count": 2,
   "metadata": {},
   "outputs": [],
   "source": [
    "def train(modelArch, dataset, useDropout, batchsize, n_epoch):\n",
    "    # Change to str\n",
    "    modelArch = str(modelArch)\n",
    "    dataset = str(dataset)\n",
    "    \n",
    "    # Call the pipeline\n",
    "    print(\"Call pipeline with \" \\\n",
    "        + \"model architecture#\" + str(modelArch) \\\n",
    "        + \", dataset#\" + str(dataset) \\\n",
    "        + \", useDropout = \" + str(useDropout) \\\n",
    "        + \", batchsize = \" + str(batchsize) \\\n",
    "        + \", n_epoch = \" + str(n_epoch))\n",
    "\n",
    "    training_pipeline(modelArch, dataset, useDropout, batchsize, n_epoch)"
   ]
  },
  {
   "cell_type": "code",
   "execution_count": 3,
   "metadata": {},
   "outputs": [
    {
     "name": "stdout",
     "output_type": "stream",
     "text": [
      "Call pipeline with model architecture#1, dataset#3, useDropout = True, batchsize = 32, n_epoch = 10\n",
      "('length of image list =', 1453)\n",
      "Epoch 1/10\n",
      "36/36 [==============================] - 49s - loss: 0.2924 - acc: 0.4913 - val_loss: 0.1257 - val_acc: 0.6250\n",
      "Epoch 2/10\n",
      "36/36 [==============================] - 47s - loss: 0.1106 - acc: 0.6816 - val_loss: 0.0818 - val_acc: 0.8108\n",
      "Epoch 3/10\n",
      "36/36 [==============================] - 47s - loss: 0.0606 - acc: 0.8947 - val_loss: 0.0403 - val_acc: 0.9344\n",
      "Epoch 4/10\n",
      "36/36 [==============================] - 47s - loss: 0.0289 - acc: 0.9679 - val_loss: 0.0223 - val_acc: 0.9923\n",
      "Epoch 5/10\n",
      "36/36 [==============================] - 47s - loss: 0.0197 - acc: 0.9800 - val_loss: 0.0172 - val_acc: 0.9884\n",
      "Epoch 6/10\n",
      "36/36 [==============================] - 47s - loss: 0.0143 - acc: 0.9800 - val_loss: 0.0133 - val_acc: 0.9923\n",
      "Epoch 7/10\n",
      "36/36 [==============================] - 47s - loss: 0.0117 - acc: 0.9852 - val_loss: 0.0124 - val_acc: 0.9923\n",
      "Epoch 8/10\n",
      "36/36 [==============================] - 47s - loss: 0.0103 - acc: 0.9844 - val_loss: 0.0096 - val_acc: 0.9923\n",
      "Epoch 9/10\n",
      "36/36 [==============================] - 47s - loss: 0.0093 - acc: 0.9870 - val_loss: 0.0104 - val_acc: 0.9884\n",
      "Epoch 10/10\n",
      "36/36 [==============================] - 47s - loss: 0.0083 - acc: 0.9861 - val_loss: 0.0106 - val_acc: 0.9923\n",
      "-----------------------------\n",
      "Save model to file: ./trained_data/model_2019-06-09_851_modelArch1_dataset3_noDropout_batch32_epoch10.h5\n",
      "Save history to pickle file: ./trained_data/history_2019-06-09_851_modelArch1_dataset3_noDropout_batch32_epoch10.bin\n"
     ]
    }
   ],
   "source": [
    "train(1, 3, True, 32, 10)"
   ]
  },
  {
   "cell_type": "code",
   "execution_count": 5,
   "metadata": {},
   "outputs": [
    {
     "name": "stdout",
     "output_type": "stream",
     "text": [
      "Call pipeline with model architecture#1, dataset#3456789, useDropout = True, batchsize = 32, n_epoch = 30\n",
      "('length of image list =', 6446)\n",
      "Epoch 1/30\n",
      "161/161 [==============================] - 216s - loss: 0.2389 - acc: 0.7378 - val_loss: 0.0602 - val_acc: 0.8672\n",
      "Epoch 2/30\n",
      "161/161 [==============================] - 215s - loss: 0.0488 - acc: 0.9026 - val_loss: 0.0444 - val_acc: 0.9165\n",
      "Epoch 3/30\n",
      "161/161 [==============================] - 214s - loss: 0.0308 - acc: 0.9528 - val_loss: 0.0331 - val_acc: 0.9563\n",
      "Epoch 4/30\n",
      "161/161 [==============================] - 215s - loss: 0.0215 - acc: 0.9711 - val_loss: 0.0263 - val_acc: 0.9642\n",
      "Epoch 5/30\n",
      "161/161 [==============================] - 213s - loss: 0.0163 - acc: 0.9785 - val_loss: 0.0206 - val_acc: 0.9666\n",
      "Epoch 6/30\n",
      "161/161 [==============================] - 216s - loss: 0.0127 - acc: 0.9835 - val_loss: 0.0171 - val_acc: 0.9698\n",
      "Epoch 7/30\n",
      "161/161 [==============================] - 216s - loss: 0.0110 - acc: 0.9868 - val_loss: 0.0164 - val_acc: 0.9730\n",
      "Epoch 8/30\n",
      "161/161 [==============================] - 213s - loss: 0.0094 - acc: 0.9889 - val_loss: 0.0179 - val_acc: 0.9762\n",
      "Epoch 9/30\n",
      "161/161 [==============================] - 213s - loss: 0.0085 - acc: 0.9903 - val_loss: 0.0158 - val_acc: 0.9769\n",
      "Epoch 10/30\n",
      "161/161 [==============================] - 213s - loss: 0.0090 - acc: 0.9918 - val_loss: 0.0129 - val_acc: 0.9801\n",
      "Epoch 11/30\n",
      "161/161 [==============================] - 213s - loss: 0.0086 - acc: 0.9918 - val_loss: 0.0128 - val_acc: 0.9793\n",
      "Epoch 12/30\n",
      "161/161 [==============================] - 213s - loss: 0.0073 - acc: 0.9930 - val_loss: 0.0126 - val_acc: 0.9841\n",
      "Epoch 13/30\n",
      "161/161 [==============================] - 213s - loss: 0.0061 - acc: 0.9944 - val_loss: 0.0105 - val_acc: 0.9825\n",
      "Epoch 14/30\n",
      "161/161 [==============================] - 219s - loss: 0.0057 - acc: 0.9948 - val_loss: 0.0119 - val_acc: 0.9817\n",
      "Epoch 15/30\n",
      "161/161 [==============================] - 217s - loss: 0.0053 - acc: 0.9957 - val_loss: 0.0103 - val_acc: 0.9873\n",
      "Epoch 16/30\n",
      "161/161 [==============================] - 216s - loss: 0.0043 - acc: 0.9967 - val_loss: 0.0104 - val_acc: 0.9849\n",
      "Epoch 17/30\n",
      "161/161 [==============================] - 214s - loss: 0.0038 - acc: 0.9965 - val_loss: 0.0093 - val_acc: 0.9825\n",
      "Epoch 18/30\n",
      "161/161 [==============================] - 214s - loss: 0.0036 - acc: 0.9965 - val_loss: 0.0094 - val_acc: 0.9809\n",
      "Epoch 19/30\n",
      "161/161 [==============================] - 219s - loss: 0.0036 - acc: 0.9965 - val_loss: 0.0099 - val_acc: 0.9817\n",
      "Epoch 20/30\n",
      "161/161 [==============================] - 218s - loss: 0.0047 - acc: 0.9971 - val_loss: 0.0097 - val_acc: 0.9801\n",
      "Epoch 21/30\n",
      "161/161 [==============================] - 214s - loss: 0.0042 - acc: 0.9973 - val_loss: 0.0103 - val_acc: 0.9873\n",
      "Epoch 22/30\n",
      "161/161 [==============================] - 214s - loss: 0.0041 - acc: 0.9971 - val_loss: 0.0091 - val_acc: 0.9873\n",
      "Epoch 23/30\n",
      "161/161 [==============================] - 229s - loss: 0.0040 - acc: 0.9973 - val_loss: 0.0096 - val_acc: 0.9857\n",
      "Epoch 24/30\n",
      "161/161 [==============================] - 225s - loss: 0.0035 - acc: 0.9977 - val_loss: 0.0087 - val_acc: 0.9873\n",
      "Epoch 25/30\n",
      "161/161 [==============================] - 224s - loss: 0.0034 - acc: 0.9977 - val_loss: 0.0097 - val_acc: 0.9849\n",
      "Epoch 26/30\n",
      "161/161 [==============================] - 216s - loss: 0.0035 - acc: 0.9979 - val_loss: 0.0105 - val_acc: 0.9849\n",
      "Epoch 27/30\n",
      "161/161 [==============================] - 216s - loss: 0.0044 - acc: 0.9977 - val_loss: 0.0094 - val_acc: 0.9873\n",
      "Epoch 28/30\n",
      "161/161 [==============================] - 218s - loss: 0.0039 - acc: 0.9984 - val_loss: 0.0093 - val_acc: 0.9857\n",
      "Epoch 29/30\n",
      "161/161 [==============================] - 253s - loss: 0.0039 - acc: 0.9979 - val_loss: 0.0100 - val_acc: 0.9841\n",
      "Epoch 30/30\n",
      "161/161 [==============================] - 222s - loss: 0.0043 - acc: 0.9973 - val_loss: 0.0116 - val_acc: 0.9801\n",
      "-----------------------------\n",
      "Save model to file: ./trained_data/model_2019-06-09_1054_modelArch1_dataset3456789_noDropout_batch32_epoch30.h5\n",
      "Save history to pickle file: ./trained_data/history_2019-06-09_1054_modelArch1_dataset3456789_noDropout_batch32_epoch30.bin\n"
     ]
    }
   ],
   "source": [
    "train(1, 3456789, True, 32, 30)"
   ]
  },
  {
   "cell_type": "code",
   "execution_count": 6,
   "metadata": {},
   "outputs": [
    {
     "name": "stdout",
     "output_type": "stream",
     "text": [
      "Call pipeline with model architecture#1, dataset#3456789, useDropout = True, batchsize = 128, n_epoch = 30\n",
      "('length of image list =', 6446)\n",
      "Epoch 1/30\n",
      "40/40 [==============================] - 217s - loss: 0.8028 - acc: 0.5629 - val_loss: 0.1144 - val_acc: 0.6438\n",
      "Epoch 2/30\n",
      "40/40 [==============================] - 208s - loss: 0.0964 - acc: 0.7186 - val_loss: 0.0894 - val_acc: 0.7238\n",
      "Epoch 3/30\n",
      "40/40 [==============================] - 213s - loss: 0.0742 - acc: 0.7937 - val_loss: 0.0653 - val_acc: 0.8158\n",
      "Epoch 4/30\n",
      "40/40 [==============================] - 208s - loss: 0.0573 - acc: 0.8709 - val_loss: 0.0543 - val_acc: 0.8761\n",
      "Epoch 5/30\n",
      "40/40 [==============================] - 209s - loss: 0.0385 - acc: 0.9306 - val_loss: 0.0357 - val_acc: 0.9312\n",
      "Epoch 6/30\n",
      "40/40 [==============================] - 210s - loss: 0.0284 - acc: 0.9570 - val_loss: 0.0333 - val_acc: 0.9466\n",
      "Epoch 7/30\n",
      "40/40 [==============================] - 210s - loss: 0.0228 - acc: 0.9672 - val_loss: 0.0246 - val_acc: 0.9604\n",
      "Epoch 8/30\n",
      "40/40 [==============================] - 210s - loss: 0.0189 - acc: 0.9758 - val_loss: 0.0231 - val_acc: 0.9673\n",
      "Epoch 9/30\n",
      "40/40 [==============================] - 212s - loss: 0.0166 - acc: 0.9783 - val_loss: 0.0210 - val_acc: 0.9656\n",
      "Epoch 10/30\n",
      "40/40 [==============================] - 208s - loss: 0.0150 - acc: 0.9803 - val_loss: 0.0218 - val_acc: 0.9647\n",
      "Epoch 11/30\n",
      "40/40 [==============================] - 212s - loss: 0.0138 - acc: 0.9812 - val_loss: 0.0191 - val_acc: 0.9656\n",
      "Epoch 12/30\n",
      "40/40 [==============================] - 209s - loss: 0.0125 - acc: 0.9824 - val_loss: 0.0177 - val_acc: 0.9664\n",
      "Epoch 13/30\n",
      "40/40 [==============================] - 208s - loss: 0.0112 - acc: 0.9850 - val_loss: 0.0186 - val_acc: 0.9647\n",
      "Epoch 14/30\n",
      "40/40 [==============================] - 205s - loss: 0.0104 - acc: 0.9877 - val_loss: 0.0159 - val_acc: 0.9664\n",
      "Epoch 15/30\n",
      "40/40 [==============================] - 205s - loss: 0.0097 - acc: 0.9883 - val_loss: 0.0154 - val_acc: 0.9699\n",
      "Epoch 16/30\n",
      "40/40 [==============================] - 206s - loss: 0.0093 - acc: 0.9879 - val_loss: 0.0163 - val_acc: 0.9725\n",
      "Epoch 17/30\n",
      "40/40 [==============================] - 209s - loss: 0.0092 - acc: 0.9885 - val_loss: 0.0139 - val_acc: 0.9759\n",
      "Epoch 18/30\n",
      "40/40 [==============================] - 212s - loss: 0.0092 - acc: 0.9893 - val_loss: 0.0133 - val_acc: 0.9785\n",
      "Epoch 19/30\n",
      "40/40 [==============================] - 206s - loss: 0.0081 - acc: 0.9893 - val_loss: 0.0120 - val_acc: 0.9776\n",
      "Epoch 20/30\n",
      "40/40 [==============================] - 206s - loss: 0.0074 - acc: 0.9914 - val_loss: 0.0141 - val_acc: 0.9759\n",
      "Epoch 21/30\n",
      "40/40 [==============================] - 206s - loss: 0.0074 - acc: 0.9914 - val_loss: 0.0116 - val_acc: 0.9802\n",
      "Epoch 22/30\n",
      "40/40 [==============================] - 206s - loss: 0.0070 - acc: 0.9916 - val_loss: 0.0114 - val_acc: 0.9811\n",
      "Epoch 23/30\n",
      "40/40 [==============================] - 207s - loss: 0.0068 - acc: 0.9926 - val_loss: 0.0114 - val_acc: 0.9836\n",
      "Epoch 24/30\n",
      "40/40 [==============================] - 206s - loss: 0.0063 - acc: 0.9930 - val_loss: 0.0123 - val_acc: 0.9802\n",
      "Epoch 25/30\n",
      "40/40 [==============================] - 206s - loss: 0.0063 - acc: 0.9937 - val_loss: 0.0130 - val_acc: 0.9802\n",
      "Epoch 26/30\n",
      "40/40 [==============================] - 207s - loss: 0.0060 - acc: 0.9937 - val_loss: 0.0102 - val_acc: 0.9836\n",
      "Epoch 27/30\n",
      "40/40 [==============================] - 208s - loss: 0.0050 - acc: 0.9947 - val_loss: 0.0103 - val_acc: 0.9811\n",
      "Epoch 28/30\n",
      "40/40 [==============================] - 209s - loss: 0.0049 - acc: 0.9945 - val_loss: 0.0104 - val_acc: 0.9836\n",
      "Epoch 29/30\n",
      "40/40 [==============================] - 206s - loss: 0.0043 - acc: 0.9961 - val_loss: 0.0095 - val_acc: 0.9897\n",
      "Epoch 30/30\n",
      "40/40 [==============================] - 206s - loss: 0.0041 - acc: 0.9961 - val_loss: 0.0093 - val_acc: 0.9871\n",
      "-----------------------------\n",
      "Save model to file: ./trained_data/model_2019-06-09_132_modelArch1_dataset3456789_noDropout_batch128_epoch30.h5\n",
      "Save history to pickle file: ./trained_data/history_2019-06-09_132_modelArch1_dataset3456789_noDropout_batch128_epoch30.bin\n"
     ]
    }
   ],
   "source": [
    "train(1, 3456789, True, 128, 30)"
   ]
  }
 ],
 "metadata": {
  "kernelspec": {
   "display_name": "Python 2",
   "language": "python",
   "name": "python2"
  },
  "language_info": {
   "codemirror_mode": {
    "name": "ipython",
    "version": 2
   },
   "file_extension": ".py",
   "mimetype": "text/x-python",
   "name": "python",
   "nbconvert_exporter": "python",
   "pygments_lexer": "ipython2",
   "version": "2.7.12"
  }
 },
 "nbformat": 4,
 "nbformat_minor": 2
}
