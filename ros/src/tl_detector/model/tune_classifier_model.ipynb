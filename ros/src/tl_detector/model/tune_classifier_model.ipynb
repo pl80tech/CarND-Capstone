{
 "cells": [
  {
   "cell_type": "code",
   "execution_count": 1,
   "metadata": {},
   "outputs": [
    {
     "name": "stderr",
     "output_type": "stream",
     "text": [
      "Using TensorFlow backend.\n",
      "/home/gb/.local/lib/python2.7/site-packages/requests/__init__.py:83: RequestsDependencyWarning: Old version of cryptography ([1, 2, 3]) may cause slowdown.\n",
      "  warnings.warn(warning, RequestsDependencyWarning)\n"
     ]
    }
   ],
   "source": [
    "from train_classifier_model import *"
   ]
  },
  {
   "cell_type": "code",
   "execution_count": 2,
   "metadata": {},
   "outputs": [],
   "source": [
    "def train(modelArch, dataset, useDropout, batchsize, n_epoch):\n",
    "    # Change to str\n",
    "    modelArch = str(modelArch)\n",
    "    dataset = str(dataset)\n",
    "    \n",
    "    # Call the pipeline\n",
    "    print(\"Call pipeline with \" \\\n",
    "        + \"model architecture#\" + str(modelArch) \\\n",
    "        + \", dataset#\" + str(dataset) \\\n",
    "        + \", useDropout = \" + str(useDropout) \\\n",
    "        + \", batchsize = \" + str(batchsize) \\\n",
    "        + \", n_epoch = \" + str(n_epoch))\n",
    "\n",
    "    training_pipeline(modelArch, dataset, useDropout, batchsize, n_epoch)"
   ]
  }
 ],
 "metadata": {
  "kernelspec": {
   "display_name": "Python 2",
   "language": "python",
   "name": "python2"
  },
  "language_info": {
   "codemirror_mode": {
    "name": "ipython",
    "version": 2
   },
   "file_extension": ".py",
   "mimetype": "text/x-python",
   "name": "python",
   "nbconvert_exporter": "python",
   "pygments_lexer": "ipython2",
   "version": "2.7.12"
  }
 },
 "nbformat": 4,
 "nbformat_minor": 2
}
